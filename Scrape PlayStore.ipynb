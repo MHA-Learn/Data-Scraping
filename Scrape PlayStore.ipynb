{
  "nbformat": 4,
  "nbformat_minor": 0,
  "metadata": {
    "colab": {
      "name": "Scrape PlayStore.ipynb",
      "provenance": [],
      "collapsed_sections": [
        "m9EK2lucMdw0",
        "oNBoemHSM_OT",
        "y5Cds1v8NUy3",
        "j8jsuz1YN83E",
        "TlN9KywdOKYA",
        "PVh3RAkGOcZT",
        "5WczUNQbOvVP",
        "Plql7mHsO7Mj",
        "-LpZbAO0PvgY"
      ]
    },
    "kernelspec": {
      "name": "python3",
      "display_name": "Python 3"
    },
    "language_info": {
      "name": "python"
    }
  },
  "cells": [
    {
      "cell_type": "markdown",
      "source": [
        "[![Open In Colab](https://colab.research.google.com/assets/colab-badge.svg)](https://colab.research.google.com/drive/1n5a9IHFRPH3AfX4CMaml5_2yLayazXuL?usp=sharing)"
      ],
      "metadata": {
        "id": "yae5avAvUhC3"
      }
    },
    {
      "cell_type": "markdown",
      "metadata": {
        "id": "Od7UdoVnLdWd"
      },
      "source": [
        "## Library Needed\n",
        "####-google-play-scraper\n",
        "####-pandas\n",
        "####-numpy"
      ]
    },
    {
      "cell_type": "code",
      "metadata": {
        "id": "LldXZPhFL4ZM"
      },
      "source": [
        "#if u haven't install the google-play scrapper library u can install it by this code:\n",
        "!pip install google-play-scraper"
      ],
      "execution_count": null,
      "outputs": []
    },
    {
      "cell_type": "code",
      "metadata": {
        "id": "EXE3fFLJMEJQ"
      },
      "source": [
        "from google_play_scraper import Sort, reviews_all, reviews, app\n",
        "import pandas as pd\n",
        "import numpy as np"
      ],
      "execution_count": null,
      "outputs": []
    },
    {
      "cell_type": "markdown",
      "metadata": {
        "id": "m9EK2lucMdw0"
      },
      "source": [
        "## Scraping Code"
      ]
    },
    {
      "cell_type": "markdown",
      "metadata": {
        "id": "oNBoemHSM_OT"
      },
      "source": [
        "###Scrape all reviews"
      ]
    },
    {
      "cell_type": "code",
      "metadata": {
        "id": "Frcsa_SqNGXH"
      },
      "source": [
        "result = reviews_all(\n",
        "    'com.twitter.android',\n",
        "    sleep_milliseconds=0, # defaults to 0\n",
        "    lang='id',            # defaults to 'en'\n",
        "    country='id',         # defaults to 'us'\n",
        "    sort=Sort.NEWEST,     # defaults to Sort.MOST_RELEVANT , you can use Sort.NEWEST to get newst reviews\n",
        ")"
      ],
      "execution_count": null,
      "outputs": []
    },
    {
      "cell_type": "markdown",
      "metadata": {
        "id": "y5Cds1v8NUy3"
      },
      "source": [
        "###Scrape desired count reviews"
      ]
    },
    {
      "cell_type": "code",
      "metadata": {
        "id": "Cf6nMwaONfL1"
      },
      "source": [
        "result, continuation_token = reviews(\n",
        "    'com.facebook.katana',\n",
        "    lang='id',                # defaults to 'en'\n",
        "    country='id',             # defaults to 'us'\n",
        "    sort=Sort.MOST_RELEVANT,  # defaults to Sort.MOST_RELEVANT you can use Sort.NEWEST to get newst reviews\n",
        "    count=500,               # defaults to 100\n",
        "    filter_score_with=None    # defaults to None(means all score) Use 1 or 2 or 3 or 4 or 5 to select certain score\n",
        ")"
      ],
      "execution_count": null,
      "outputs": []
    },
    {
      "cell_type": "markdown",
      "metadata": {
        "id": "j8jsuz1YN83E"
      },
      "source": [
        "##Scraping Result"
      ]
    },
    {
      "cell_type": "markdown",
      "metadata": {
        "id": "TlN9KywdOKYA"
      },
      "source": [
        "###code to see the preview data"
      ]
    },
    {
      "cell_type": "code",
      "metadata": {
        "id": "mDg5JNIFOFrm"
      },
      "source": [
        "scrapeddata = pd.DataFrame(np.array(result),columns=['review'])\n",
        "\n",
        "scrapeddata = scrapeddata.join(pd.DataFrame(scrapeddata.pop('review').tolist()))\n",
        "\n",
        "scrapeddata.head()"
      ],
      "execution_count": null,
      "outputs": []
    },
    {
      "cell_type": "markdown",
      "metadata": {
        "id": "PVh3RAkGOcZT"
      },
      "source": [
        "### code to see the count the data tht we got:"
      ]
    },
    {
      "cell_type": "code",
      "metadata": {
        "id": "Et8QP1LHOk4h"
      },
      "source": [
        "len(scrapeddata.index)"
      ],
      "execution_count": null,
      "outputs": []
    },
    {
      "cell_type": "markdown",
      "metadata": {
        "id": "5WczUNQbOvVP"
      },
      "source": [
        "###Filtering the scrapped data"
      ]
    },
    {
      "cell_type": "code",
      "metadata": {
        "id": "7Soe-xswOx7_"
      },
      "source": [
        "scrapeddata[['content','score','at']].head() "
      ],
      "execution_count": null,
      "outputs": []
    },
    {
      "cell_type": "markdown",
      "metadata": {
        "id": "Plql7mHsO7Mj"
      },
      "source": [
        "###code to sort the date (if we want to)"
      ]
    },
    {
      "cell_type": "code",
      "metadata": {
        "id": "TCXi8cz0PKFO"
      },
      "source": [
        "scrappeddata1 = scrapeddata[['content','score','at']]\n",
        "sorteddata = scrappeddata1.sort_values(by='at', ascending=False) #Sort by Newest, change to True if you want to sort by Oldest.\n",
        "sorteddata.head()"
      ],
      "execution_count": null,
      "outputs": []
    },
    {
      "cell_type": "markdown",
      "metadata": {
        "id": "-LpZbAO0PvgY"
      },
      "source": [
        "##code to download/import our data to our device:"
      ]
    },
    {
      "cell_type": "code",
      "metadata": {
        "id": "FLoAVaz3P4Me"
      },
      "source": [
        "sorteddata.to_excel(\"playstorescrapping.xlsx\", index = False)  #Save the file as CSV , to download: click the folder icon on the left. the csv file should be there."
      ],
      "execution_count": null,
      "outputs": []
    },
    {
      "cell_type": "code",
      "metadata": {
        "id": "M8s665UhOrdM"
      },
      "source": [
        "sorteddata.to_csv(\"playstorescrapping.csv\", index = False)  #Save the file as CSV , to download: click the folder icon on the left. the csv file should be there."
      ],
      "execution_count": null,
      "outputs": []
    }
  ]
}