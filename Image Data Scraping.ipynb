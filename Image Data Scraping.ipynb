{
  "nbformat": 4,
  "nbformat_minor": 0,
  "metadata": {
    "colab": {
      "name": "Image Data Scraping",
      "provenance": [],
      "collapsed_sections": []
    },
    "kernelspec": {
      "name": "python3",
      "display_name": "Python 3"
    },
    "language_info": {
      "name": "python"
    }
  },
  "cells": [
    {
      "cell_type": "markdown",
      "source": [
        "[![Open In Colab](https://colab.research.google.com/assets/colab-badge.svg)](https://colab.research.google.com/github/googlecolab/colabtools/blob/master/notebooks/colab-github-demo.ipynb)"
      ],
      "metadata": {
        "id": "FO51peVUQ3tG"
      }
    },
    {
      "cell_type": "markdown",
      "source": [
        "##Install and import the library"
      ],
      "metadata": {
        "id": "loYntxKrRC6J"
      }
    },
    {
      "cell_type": "code",
      "execution_count": null,
      "metadata": {
        "id": "fZCLAvLXC3_j"
      },
      "outputs": [],
      "source": [
        "!pip install bing-image-downloader"
      ]
    },
    {
      "cell_type": "code",
      "source": [
        "from bing_image_downloader import downloader"
      ],
      "metadata": {
        "id": "ZEZT_JiCHvBm"
      },
      "execution_count": 3,
      "outputs": []
    },
    {
      "cell_type": "markdown",
      "source": [
        "##Mount the drive (if needed)"
      ],
      "metadata": {
        "id": "e51SJlILRHTD"
      }
    },
    {
      "cell_type": "code",
      "source": [
        "# Run this cell if u can't mount ur drive automatically\n",
        "\n",
        "from google.colab import drive\n",
        "drive.mount('/content/drive')"
      ],
      "metadata": {
        "id": "LtqoTWQ9GDIa"
      },
      "execution_count": null,
      "outputs": []
    },
    {
      "cell_type": "markdown",
      "source": [
        "##Set ur directory"
      ],
      "metadata": {
        "id": "l8_wPVo_RAIz"
      }
    },
    {
      "cell_type": "code",
      "source": [
        "#set the directory\n",
        "\n",
        "dir = ''"
      ],
      "metadata": {
        "id": "xdOjkeAEH1cW"
      },
      "execution_count": 4,
      "outputs": []
    },
    {
      "cell_type": "markdown",
      "source": [
        "##Download The Image"
      ],
      "metadata": {
        "id": "Szuldz0WQ9rr"
      }
    },
    {
      "cell_type": "code",
      "source": [
        "downloader.download('tiger', limit = 100, output_dir = dir, adult_filter_off = True)"
      ],
      "metadata": {
        "id": "xTKeb6AHGRc2"
      },
      "execution_count": null,
      "outputs": []
    },
    {
      "cell_type": "code",
      "source": [
        "downloader.download('cheetah', limit = 100, output_dir = dir, adult_filter_off = True)"
      ],
      "metadata": {
        "id": "FolHjHbdJazV"
      },
      "execution_count": null,
      "outputs": []
    },
    {
      "cell_type": "code",
      "source": [
        "downloader.download('lion', limit = 100, output_dir = dir, adult_filter_off = True)"
      ],
      "metadata": {
        "id": "8jzpU_2ZJbRk"
      },
      "execution_count": null,
      "outputs": []
    }
  ]
}